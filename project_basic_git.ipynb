{
 "cells": [
  {
   "cell_type": "markdown",
   "id": "0ce06a53-0ab3-4c51-9ec5-16327baa0394",
   "metadata": {},
   "source": [
    "### Импорт библиотек"
   ]
  },
  {
   "cell_type": "code",
   "execution_count": 1,
   "id": "5f64cbce-532c-4d4d-b1bf-f5a8df54f7e2",
   "metadata": {},
   "outputs": [],
   "source": [
    "import glob\n",
    "import json\n",
    "import logging\n",
    "import os\n",
    "import psycopg2\n",
    "import requests\n",
    "import smtplib\n",
    "import ssl\n",
    "from datetime import datetime, timedelta\n",
    "from email.message import EmailMessage\n",
    "from google.oauth2.service_account import Credentials\n",
    "from googleapiclient.discovery import build\n",
    "from re import search, match"
   ]
  },
  {
   "cell_type": "code",
   "execution_count": 2,
   "id": "11b7d6da-c7f2-440d-9aeb-f62463489502",
   "metadata": {},
   "outputs": [],
   "source": [
    "beg = datetime.now() # хочу узнать время выполнения скрипта"
   ]
  },
  {
   "cell_type": "markdown",
   "id": "f9c34aec-745d-48eb-9bac-778569975295",
   "metadata": {},
   "source": [
    "#### Создание функции для логирования"
   ]
  },
  {
   "cell_type": "code",
   "execution_count": 3,
   "id": "4597ecfe-55e6-4066-a38a-d2ac210925a4",
   "metadata": {},
   "outputs": [],
   "source": [
    "def set_logs(current_date):\n",
    "    log_filename = f'app_{current_date.strftime('%Y-%m-%d')}.log'    \n",
    "    # Настройка логирования в файл\n",
    "    logging.basicConfig(\n",
    "        level=logging.INFO,\n",
    "        format='%(asctime)s - %(levelname)s - %(message)s',\n",
    "        filename=log_filename,\n",
    "        filemode='a'\n",
    "    )\n"
   ]
  },
  {
   "cell_type": "markdown",
   "id": "2556375d-9858-4d41-85dc-b00944d48d9c",
   "metadata": {},
   "source": [
    "#### Создание функция для удаления файлов со старыми логами"
   ]
  },
  {
   "cell_type": "code",
   "execution_count": 4,
   "id": "baf8a333-9504-4a1b-b5c4-46aa42da1760",
   "metadata": {},
   "outputs": [],
   "source": [
    "def delete_old_logs(log_dir='.', days=3):\n",
    "    pattern = r'\\d{4}-\\d{2}-\\d{2}' # паттерн для поиска нужного файла\n",
    "    for file in glob.glob(log_dir + '/*.log'):\n",
    "        try:\n",
    "            date_str = search(pattern, file).group()\n",
    "            file_date = datetime.strptime(date_str, '%Y-%m-%d').date()\n",
    "            if current_date - file_date >= timedelta(days=days): # если файлы давние      \n",
    "                os.remove(file) # удаление файла\n",
    "                logging.info(f'Удален старый лог-файл: {file}')\n",
    "        except Exception as e:\n",
    "            logging.warning(f'Не удалось обработать файл {file}: {e}, {date_str}')"
   ]
  },
  {
   "cell_type": "markdown",
   "id": "7eb0ed2c-168c-4d82-aaf7-6d0a6b33e522",
   "metadata": {},
   "source": [
    "#### Создание класса для подключения к базе данных"
   ]
  },
  {
   "cell_type": "code",
   "execution_count": 5,
   "id": "9c976b43-f3bc-4007-83f2-293de8eeae09",
   "metadata": {},
   "outputs": [],
   "source": [
    "class DatabaseConnection:\n",
    "    _instance = None\n",
    "\n",
    "    def __new__(cls, *args):\n",
    "        if not cls._instance:\n",
    "            cls._instance = super().__new__(cls)\n",
    "        else: \n",
    "            logging.warning(f'Повторное создание экземпляра класса для подключения к базе данных.')\n",
    "        return cls._instance\n",
    "        \n",
    "    def __init__(self, database, user, password, host, port):\n",
    "        try:\n",
    "            if not hasattr(self, 'instance'):  # Проверяем, существует ли экземпляр\n",
    "                self.__database = database\n",
    "                self.__user = user\n",
    "                self.__password = password\n",
    "                self.__host = host\n",
    "                self.__port = port\n",
    "                self.connection = psycopg2.connect(database=self.__database, \n",
    "                                                       user=self.__user, \n",
    "                                                   password=self.__password,\n",
    "                                                       host=self.__host, \n",
    "                                                       port=self.__port)\n",
    "                self.cursor = self.connection.cursor()\n",
    "                self.status = True\n",
    "                logging.info(f'Подключение к базе данных успешно установлено')\n",
    "        except Exception as e:\n",
    "            self.status = False\n",
    "            logging.error(f'Ошибка подключения к базе данных: {e}')\n",
    "\n",
    "    def get_connection(self):\n",
    "        return self.connection\n",
    "\n",
    "    def try_query(self, query, params=None): # обычные запросы + параметризированные запросы\n",
    "        try: \n",
    "            if params:\n",
    "                self.cursor.execute(query, params)\n",
    "            else:\n",
    "                self.cursor.execute(query)\n",
    "            logging.info(f'Запрос выполнен успешно')    \n",
    "            return self.cursor.fetchall()\n",
    "        except Exception as e:\n",
    "            logging.error(f'Ошибка при выполнении запроса: {e}')\n",
    "            self.connection.rollback()\n",
    "\n",
    "    def insert_data(self, insert_query, data): # для вставки данных отдельный метод\n",
    "        try:\n",
    "            self.cursor.executemany(insert_query, data)\n",
    "            self.connection.commit()\n",
    "            logging.info(f'Добавлено записей: {len(data)}')\n",
    "        except Exception as e:\n",
    "            logging.error(f'Ошибка при вставке данных: {e}')\n",
    "            self.connection.rollback()\n",
    "            \n",
    "    def close_connection(self): # закрытие соединения\n",
    "        self.cursor.close()\n",
    "        self.connection.close()\n",
    "        logging.info(f'Соединение с базой данных закрыто.')\n",
    "\n",
    "    def reopen_connection(self): # переоткрытие соединения\n",
    "        try:\n",
    "            self.connection = psycopg2.connect(database=self.__database, \n",
    "                                                   user=self.__postgres, \n",
    "                                               password=self.__password,\n",
    "                                                   host=self.__host, \n",
    "                                                   port=self.__port)\n",
    "            self.cursor = self.connection.cursor()\n",
    "            logging.info(f'Соединение с базой данных переоткрыто.')\n",
    "        except Exception as e:\n",
    "            logging.error(f'Ошибка подключения к базе данных: {e}')"
   ]
  },
  {
   "cell_type": "markdown",
   "id": "362c32b9-efb5-42a5-b1f3-0f16f0585a96",
   "metadata": {},
   "source": [
    "#### Создание класса для подключения по API"
   ]
  },
  {
   "cell_type": "code",
   "execution_count": 6,
   "id": "ca124049-6c4f-4eaf-bd02-dc37a0f73254",
   "metadata": {},
   "outputs": [],
   "source": [
    "class GetRequests:\n",
    "    def __init__(self, api_url, params):\n",
    "        try:\n",
    "            self.res = requests.get(api_url, params)\n",
    "            self.status_code = self.res.status_code\n",
    "            self.url = self.res.url\n",
    "            self.res_list = self.res.json()\n",
    "            if self.status_code == 200:\n",
    "                logging.info(f'Данные получены, status_code = 200')\n",
    "            else: \n",
    "                logging.error(f'Ошибка получения данных: status_code =  {self.status_code}')\n",
    "        except Exception as e:\n",
    "            logging.error(f'Ошибка подключения по API: {e}')            "
   ]
  },
  {
   "cell_type": "markdown",
   "id": "55255b98-4495-46ba-b328-27d92d21019c",
   "metadata": {},
   "source": [
    "#### Создание класса для работы с google sheets"
   ]
  },
  {
   "cell_type": "code",
   "execution_count": 7,
   "id": "31cb5a91-2d0f-4c80-a325-8c1a310f35f3",
   "metadata": {},
   "outputs": [],
   "source": [
    "class SheetWrite:\n",
    "    def __init__(self, service_account_file, spreadsheet_id):\n",
    "        try:\n",
    "            self.creds = Credentials.from_service_account_file(service_account_file,\n",
    "                                                                    scopes=['https://www.googleapis.com/auth/spreadsheets', \n",
    "                                                                            'https://www.googleapis.com/auth/drive']\n",
    "                                                                        )\n",
    "            self.spreadsheet_id = spreadsheet_id\n",
    "            self.service = build('sheets', 'v4', credentials=self.creds)\n",
    "            logging.info(f'Подключение к google sheets выполнено')\n",
    "        except Exception as e:\n",
    "            logging.error(f'Ошибка подключения  к google sheets: {e}')                \n",
    "\n",
    "    def append_to_table(self, data, range_name, value_Input_Option='RAW'):\n",
    "        try:\n",
    "            self.request = self.service.spreadsheets().values().append(\n",
    "                                                    spreadsheetId=self.spreadsheet_id,\n",
    "                                                            range=range_name,\n",
    "                                                valueInputOption=value_Input_Option,  # чтобы распозналось как дата и число\n",
    "                                                insertDataOption='INSERT_ROWS',\n",
    "                                                            body={'values': data}\n",
    "                                                              )\n",
    "            self.response = self.request.execute()\n",
    "            self.status = True # статус выполнения\n",
    "            logging.info(f'Данные в google sheets на лист {range_name} добавлены')\n",
    "        except Exception as e:\n",
    "            self.status = False\n",
    "            logging.error(f'Ошибка добавления строк в google sheets: {e}')\n",
    "\n",
    "    def close_connection(self):\n",
    "         self.service.close()\n",
    "         logging.info(f'Соединение с google sheets закрыто')"
   ]
  },
  {
   "cell_type": "markdown",
   "id": "24a4c489-f9e3-4bf0-9f72-661dc350d84b",
   "metadata": {},
   "source": [
    "#### Определяем постоянные переменные для подключения к БД, API, google sheets"
   ]
  },
  {
   "cell_type": "code",
   "execution_count": 8,
   "id": "a445a3cc-f9b3-4da6-976d-3351d2d8ed8e",
   "metadata": {},
   "outputs": [],
   "source": [
    "current_date = datetime.now().date()\n",
    "# previous_date = current_date - timedelta(days=1)\n",
    "\n",
    "set_logs(current_date) # запуск логирования\n",
    "delete_old_logs() # удаление старых файлов с логами\n",
    "\n",
    "# подключение к бд\n",
    "DATABASE='...'\n",
    "USER='...'\n",
    "PASSWORD='...'\n",
    "HOST='...'\n",
    "PORT='...'\n",
    "\n",
    "# свежих данных нет на b2b, поэтому здесь исскуственно определила текущую дату для получение данных по API\n",
    "# по задумке скрипт, допустим, запускался бы в 10 утра и забирал бы данные за предыдущий день\n",
    "current_date = (datetime.now() - timedelta(days=820)).date()\n",
    "previous_date = current_date - timedelta(days=1)\n",
    "\n",
    "# подключение по API\n",
    "API_URL = 'https://b2b.itresume.ru/api/statistics'\n",
    "PARAMS = {\n",
    "    'client': '...',\n",
    "    'client_key': '...',\n",
    "    'start': f'{previous_date.strftime(\"%Y-%m-%d %H:%M:%S.0\")}', #'2023-04-01 00:00:00.0',\n",
    "    'end': f'{current_date.strftime(\"%Y-%m-%d %H:%M:%S.0\")}'\n",
    "}\n",
    "\n",
    "# подключение к google sheets\n",
    "SERVICE_ACCOUNT_FILE = 'C:/....json'\n",
    "SPREADSHEET_ID = '...'  "
   ]
  },
  {
   "cell_type": "markdown",
   "id": "28dab4f0-c843-4bc3-835b-f0c7f9627d3a",
   "metadata": {},
   "source": [
    "#### Получение данных по API, подключение к БД, google sheets (создание экземпяров класса)"
   ]
  },
  {
   "cell_type": "code",
   "execution_count": 9,
   "id": "c230e8c7-d953-430b-bb8c-1b75f0cdce90",
   "metadata": {},
   "outputs": [],
   "source": [
    "data_api = GetRequests(API_URL, PARAMS)\n",
    "dbc = DatabaseConnection(DATABASE, USER, PASSWORD, HOST, PORT)"
   ]
  },
  {
   "cell_type": "code",
   "execution_count": 10,
   "id": "0b0dddef-69f7-4730-a937-5ca7d921a0d8",
   "metadata": {},
   "outputs": [],
   "source": [
    "write_gs = SheetWrite(SERVICE_ACCOUNT_FILE, SPREADSHEET_ID)"
   ]
  },
  {
   "cell_type": "markdown",
   "id": "eec7cffa-6111-4011-9987-007c13d79f4e",
   "metadata": {},
   "source": [
    "#### Загрузка данных в БД"
   ]
  },
  {
   "cell_type": "code",
   "execution_count": 11,
   "id": "0aafb338-0c69-4282-ae3e-5bb251d81345",
   "metadata": {},
   "outputs": [],
   "source": [
    "data_for_insert = [] # список для валидных записей, которые будут записаны в бд\n",
    "not_valid = [] # список для невалидных записей\n",
    "if data_api.status_code == 200 and dbc.status: # если получены данные и открыто соединение с бд\n",
    "    for item in data_api.res_list:\n",
    "      # валидность lti_user_id\n",
    "      lti_user_id = str(item['lti_user_id']) #сразу переводим в тип данных str\n",
    "      if lti_user_id == 'None' or not lti_user_id.isalnum():\n",
    "          not_valid.append((item, f'non-valid  --lti_user_id--: {lti_user_id}')) # добавление невалиндой строки и обозначение неправильныъ данных\n",
    "          continue # если неправильные данные, то запись улетает в невалидный список, переход на следующую итерацию цикла\n",
    "             \n",
    "      if item['passback_params'] is not None:\n",
    "           passback_params = json.loads(item['passback_params'].replace(\"'\", '\"'))\n",
    "          \n",
    "           oauth_consumer_key = 'None' if not passback_params.get('oauth_consumer_key', None) else str(passback_params.get('oauth_consumer_key', None))\n",
    "\n",
    "           # валидность lis_result_sourcedid       \n",
    "           lis_result_sourcedid = str(passback_params.get('lis_result_sourcedid', None))\n",
    "           pattern = r'course-v1:SkillFactory+'\n",
    "           if lis_result_sourcedid == 'None' or not match(pattern, lis_result_sourcedid):\n",
    "               logging.warning(f'non-valid --lis_result_sourcedid--, lti_user_id {lti_user_id}')\n",
    "               \n",
    "           # валидность lis_outcome_service_url    \n",
    "           lis_outcome_service_url = str(passback_params.get('lis_outcome_service_url', None))\n",
    "           pattern = r'https://lms.skillfactory.ru/courses/'\n",
    "           if lis_outcome_service_url == 'None' or not match(pattern, lis_outcome_service_url):\n",
    "               logging.warning(f'non-valid --lis_outcome_service_url--, lti_user_id {lti_user_id}')\n",
    "        \n",
    "      else:\n",
    "           # Обработка случая, когда 'passback_params' is None\n",
    "           oauth_consumer_key = 'None'\n",
    "           lis_result_sourcedid = 'None'\n",
    "           lis_outcome_service_url = 'None'\n",
    "           logging.warning(f'lis_result_sourcedid, lis_outcome_service_url are None, lti_user_id {lti_user_id}') \n",
    "      \n",
    "      # валидность is_correct   \n",
    "      is_correct = str(item['is_correct'])\n",
    "      if is_correct not in ('None', '0', '1'):\n",
    "         not_valid.append((item, f'non-valid --is_correct--: {is_correct}, lti_user_id {lti_user_id}')) # добавление невалиндой строки и обозначение неправильных данных\n",
    "         continue\n",
    "\n",
    "      # валижность attempt_type  \n",
    "      attempt_type = str(item['attempt_type'])\n",
    "      if attempt_type not in ('run', 'submit'):\n",
    "         not_valid.append((item, f'non-valid --attempt_type--: {attempt_type}, lti_user_id {lti_user_id}')) # добавление невалиндой строки и обозначение неправильных данных\n",
    "         continue\n",
    "          \n",
    "      # валидность created_at\n",
    "      try:  \n",
    "          created_at = datetime.strptime(item['created_at'], \"%Y-%m-%d %H:%M:%S.%f\")\n",
    "      except Exception as err:\n",
    "          not_valid.append((item, f'non-valid --created_at--: {item['created_at']}, lti_user_id {lti_user_id}'))\n",
    "          continue\n",
    "          \n",
    "      # формируем список из полученных полей, добавляет в список data_for_insert\n",
    "      data_for_insert.append([lti_user_id, oauth_consumer_key, lis_result_sourcedid, lis_outcome_service_url, is_correct, attempt_type, created_at])\n",
    "    \n",
    "    # лог о невалидной строках, их количество и запись в файл\n",
    "    logging.critical(f'не добавлено в таблицу {len(not_valid)} строк, см ниже')\n",
    "    for item in not_valid:\n",
    "        logging.critical(f'{item}')\n",
    "        \n",
    "    # вставка записей в таблицу бд\n",
    "    insert_query = \"\"\"\n",
    "    INSERT INTO row_data (lti_user_id, oauth_consumer_key, lis_result_sourcedid,\n",
    "                          lis_outcome_service_url, is_correct, attempt_type, created_at)\n",
    "    VALUES (%s, %s, %s, %s, %s, %s, %s)\n",
    "    \"\"\"\n",
    "    \n",
    "    dbc.insert_data(insert_query, data_for_insert)"
   ]
  },
  {
   "cell_type": "markdown",
   "id": "b25a1bb0-9633-4248-a50e-04b79c704636",
   "metadata": {},
   "source": [
    "#### Запросы к БД"
   ]
  },
  {
   "cell_type": "code",
   "execution_count": 12,
   "id": "427b17e7-4b79-453b-845f-1ce22fe82c48",
   "metadata": {},
   "outputs": [],
   "source": [
    "# сколько попыток было совершено за вчерашний день (в данном случае условный вчерашний день)\n",
    "query_submits_by_day = \"\"\"\n",
    "select created_at::date::text\n",
    "    , count(attempt_type)\n",
    "from row_data\n",
    "where attempt_type = 'submit'\n",
    "    and created_at::date = %s\n",
    "group by created_at::date\n",
    "\"\"\"\n",
    "\n",
    "# формируем список из результата запроса и названия листа gs, куда запись будет помещена\n",
    "total_submits = [dbc.try_query(query_submits_by_day, (f'{previous_date.strftime(\"%Y-%m-%d\")}',)), \n",
    "                 'submits']"
   ]
  },
  {
   "cell_type": "code",
   "execution_count": 13,
   "id": "6bfa976e-6409-484e-9400-15e253424251",
   "metadata": {},
   "outputs": [],
   "source": [
    "# сколько успешных попыток было из всех совершенных за вчерашний день (в данном случае условный вчерашний день)\n",
    "query_successful_submits_by_day = \"\"\"\n",
    "select created_at::date::text\n",
    "    , count(attempt_type)\n",
    "from row_data\n",
    "where true\n",
    "    and attempt_type = 'submit'\n",
    "    and is_correct = '1'\n",
    "    and created_at::date = %s\n",
    "group by created_at::date\n",
    "\"\"\"\n",
    "\n",
    "total_successful_submits = [dbc.try_query(query_successful_submits_by_day, (f'{previous_date.strftime(\"%Y-%m-%d\")}',)), \n",
    "                            'succ_submits'] "
   ]
  },
  {
   "cell_type": "code",
   "execution_count": 14,
   "id": "1e30de11-c4ef-4e11-a5f0-03872e15d5fc",
   "metadata": {},
   "outputs": [],
   "source": [
    "# количество уникальных юзеров за вчерашний день (в данном случае условный вчерашний день)\n",
    "query_unique_users_by_day = \"\"\"\n",
    "select created_at::date::text\n",
    "    , count(distinct lti_user_id)\n",
    "from row_data\n",
    "where created_at::date = %s\n",
    "group by created_at::date\n",
    "\"\"\"\n",
    "\n",
    "count_unique_users = [dbc.try_query(query_unique_users_by_day, (f'{previous_date.strftime(\"%Y-%m-%d\")}',)), \n",
    "                      'unique_users'] "
   ]
  },
  {
   "cell_type": "code",
   "execution_count": 15,
   "id": "51519b7b-aeb1-48eb-a8fa-af57e6d763b0",
   "metadata": {},
   "outputs": [],
   "source": [
    "dbc.close_connection() # закрытие подключения к БД"
   ]
  },
  {
   "cell_type": "markdown",
   "id": "55740e20-2750-46c5-bc36-bbc005f28254",
   "metadata": {},
   "source": [
    "#### Запись в google sheets"
   ]
  },
  {
   "cell_type": "code",
   "execution_count": 16,
   "id": "a2088ff8-1598-4e00-bb80-aaac2caf118a",
   "metadata": {},
   "outputs": [],
   "source": [
    "# записываем результы запросов в таблицу google sheets\n",
    "for item in [total_submits, total_successful_submits, count_unique_users]:\n",
    "    write_gs.append_to_table(item[0], item[1])\n",
    "    \n",
    "# закрываем соединение\n",
    "write_gs.close_connection()    "
   ]
  },
  {
   "cell_type": "markdown",
   "id": "1c5dd8f7-55fc-4b52-801c-018361ffaa7a",
   "metadata": {},
   "source": [
    "#### Отправка отчета на почту"
   ]
  },
  {
   "cell_type": "code",
   "execution_count": 17,
   "id": "f9ad51ca-c7a7-4fd3-9d22-8733ee21afa9",
   "metadata": {},
   "outputs": [],
   "source": [
    "# Параметры подключения к SMTP-серверу\n",
    "smtp_server = 'smtp.mail.ru'    # Укажите ваш SMTP сервер\n",
    "port = 465                       # Порт для TLS или 465 для SSL\n",
    "sender_email = '...@mail.ru'  # Ваш email\n",
    "receiver_email = '...@mail.ru'  # Email получателя\n",
    "password = '...'         # Пароль от вашего email\n",
    "\n",
    "# Создаем защищенное подключение\n",
    "context = ssl.create_default_context()\n",
    "\n",
    "end = datetime.now() # время окончания скрипта\n",
    "delta = round((end - beg).total_seconds(),2)\n",
    "\n",
    "# Создаем сообщение\n",
    "msg = EmailMessage()\n",
    "subject = 'Отчёт о загрузке данных'\n",
    "message = f'Добавлено в БД: {len(data_for_insert)} строк\\nНевалидных строк: {len(not_valid)}\\nЗапись в google sheets: {write_gs.status}\\nВремя выполнения скрипта: {delta} секунд\\n\\nДата и время отправки отчёта:\\n{datetime.now()}'                 \n",
    "\n",
    "# Заполняем параметры письма\n",
    "msg.set_content(message)\n",
    "msg['Subject'] = subject\n",
    "msg['From'] = sender_email\n",
    "msg['To'] = receiver_email\n",
    "\n",
    "try:\n",
    "    server = smtplib.SMTP_SSL(smtp_server, port, context=context)\n",
    "    server.login(sender_email, password)\n",
    "    server.send_message(msg=msg)\n",
    "    logging.info(f'Отчёт на почту отправлен')\n",
    "except Exception as e:\n",
    "    logging.error(f'Ошибка при отправлении отчета на почту: {e}')\n",
    "finally:\n",
    "    # Закрываем соединение\n",
    "    server.quit()\n",
    "    logging.info(f'Соединение с SMTP-сервером закрыто')"
   ]
  },
  {
   "cell_type": "markdown",
   "id": "8df84093-ca19-47c1-b08e-f0ad757aa5f6",
   "metadata": {},
   "source": [
    "#### Пример отчета"
   ]
  },
  {
   "cell_type": "code",
   "execution_count": 18,
   "id": "46b9cd58-fc7e-458a-9baf-68739e49ca38",
   "metadata": {},
   "outputs": [
    {
     "data": {
      "image/jpeg": "[encoded data removed]",
      "text/plain": [
       "<IPython.core.display.Image object>"
      ]
     },
     "execution_count": 18,
     "metadata": {},
     "output_type": "execute_result"
    }
   ],
   "source": [
    "from IPython.display import Image\n",
    "Image(filename='C:/....jpg')"
   ]
  }
 ],
 "metadata": {
  "kernelspec": {
   "display_name": "Python [conda env:base] *",
   "language": "python",
   "name": "conda-base-py"
  },
  "language_info": {
   "codemirror_mode": {
    "name": "ipython",
    "version": 3
   },
   "file_extension": ".py",
   "mimetype": "text/x-python",
   "name": "python",
   "nbconvert_exporter": "python",
   "pygments_lexer": "ipython3",
   "version": "3.13.5"
  }
 },
 "nbformat": 4,
 "nbformat_minor": 5
}
